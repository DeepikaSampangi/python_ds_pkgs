{
 "cells": [
  {
   "cell_type": "markdown",
   "metadata": {},
   "source": [
    "### Create Dummy Files"
   ]
  },
  {
   "cell_type": "code",
   "execution_count": 1,
   "metadata": {},
   "outputs": [],
   "source": [
    "import pandas as pd"
   ]
  },
  {
   "cell_type": "code",
   "execution_count": 24,
   "metadata": {},
   "outputs": [],
   "source": [
    "dummy_0=pd.Series(['a0', 'b0', 'c0', 'd0'])\n",
    "dummy_1=pd.Series(['a1', 'b1', 'c1', 'd1'])\n",
    "dummy_2=pd.Series(['a2', 'b2', 'c2', 'd2'])"
   ]
  },
  {
   "cell_type": "code",
   "execution_count": 25,
   "metadata": {},
   "outputs": [],
   "source": [
    "dummy_0.to_csv('dummy_0', index=False)\n",
    "dummy_1.to_csv('dummy_1', index=False)\n",
    "dummy_2.to_csv('dummy_2', index=False)"
   ]
  },
  {
   "cell_type": "markdown",
   "metadata": {},
   "source": [
    "### Concatenation"
   ]
  },
  {
   "cell_type": "code",
   "execution_count": 26,
   "metadata": {},
   "outputs": [],
   "source": [
    "df0 = pd.read_csv('dummy_0')\n",
    "df1 = pd.read_csv('dummy_1')\n",
    "df2 = pd.read_csv('dummy_2')"
   ]
  },
  {
   "cell_type": "code",
   "execution_count": 27,
   "metadata": {},
   "outputs": [
    {
     "data": {
      "text/html": [
       "<div>\n",
       "<style scoped>\n",
       "    .dataframe tbody tr th:only-of-type {\n",
       "        vertical-align: middle;\n",
       "    }\n",
       "\n",
       "    .dataframe tbody tr th {\n",
       "        vertical-align: top;\n",
       "    }\n",
       "\n",
       "    .dataframe thead th {\n",
       "        text-align: right;\n",
       "    }\n",
       "</style>\n",
       "<table border=\"1\" class=\"dataframe\">\n",
       "  <thead>\n",
       "    <tr style=\"text-align: right;\">\n",
       "      <th></th>\n",
       "      <th>0</th>\n",
       "    </tr>\n",
       "  </thead>\n",
       "  <tbody>\n",
       "    <tr>\n",
       "      <th>0</th>\n",
       "      <td>a0</td>\n",
       "    </tr>\n",
       "    <tr>\n",
       "      <th>1</th>\n",
       "      <td>b0</td>\n",
       "    </tr>\n",
       "    <tr>\n",
       "      <th>2</th>\n",
       "      <td>c0</td>\n",
       "    </tr>\n",
       "    <tr>\n",
       "      <th>3</th>\n",
       "      <td>d0</td>\n",
       "    </tr>\n",
       "  </tbody>\n",
       "</table>\n",
       "</div>"
      ],
      "text/plain": [
       "    0\n",
       "0  a0\n",
       "1  b0\n",
       "2  c0\n",
       "3  d0"
      ]
     },
     "execution_count": 27,
     "metadata": {},
     "output_type": "execute_result"
    }
   ],
   "source": [
    "df0"
   ]
  },
  {
   "cell_type": "markdown",
   "metadata": {},
   "source": [
    "#### row concatenate"
   ]
  },
  {
   "cell_type": "code",
   "execution_count": 28,
   "metadata": {},
   "outputs": [
    {
     "name": "stdout",
     "output_type": "stream",
     "text": [
      "    0\n",
      "0  a0\n",
      "1  b0\n",
      "2  c0\n",
      "3  d0\n",
      "0  a1\n",
      "1  b1\n",
      "2  c1\n",
      "3  d1\n",
      "0  a2\n",
      "1  b2\n",
      "2  c2\n",
      "3  d2\n"
     ]
    }
   ],
   "source": [
    "row_concat = pd.concat([df0,df1,df2])\n",
    "\n",
    "print(row_concat)"
   ]
  },
  {
   "cell_type": "code",
   "execution_count": 29,
   "metadata": {},
   "outputs": [
    {
     "name": "stdout",
     "output_type": "stream",
     "text": [
      "0    c0\n",
      "Name: 2, dtype: object\n"
     ]
    }
   ],
   "source": [
    "print(row_concat.iloc[2,])"
   ]
  },
  {
   "cell_type": "code",
   "execution_count": 30,
   "metadata": {},
   "outputs": [
    {
     "name": "stdout",
     "output_type": "stream",
     "text": [
      "0    n1\n",
      "1    n2\n",
      "2    n3\n",
      "dtype: object\n"
     ]
    }
   ],
   "source": [
    "new_row_series = pd.Series(['n1', 'n2', 'n3'])\n",
    "print(new_row_series)"
   ]
  },
  {
   "cell_type": "code",
   "execution_count": 32,
   "metadata": {},
   "outputs": [
    {
     "name": "stdout",
     "output_type": "stream",
     "text": [
      "     0    0\n",
      "0   a1  NaN\n",
      "1   b1  NaN\n",
      "2   c1  NaN\n",
      "3   d1  NaN\n",
      "0  NaN   n1\n",
      "1  NaN   n2\n",
      "2  NaN   n3\n"
     ]
    }
   ],
   "source": [
    "print(pd.concat([df1, new_row_series]))"
   ]
  },
  {
   "cell_type": "code",
   "execution_count": 33,
   "metadata": {},
   "outputs": [
    {
     "name": "stdout",
     "output_type": "stream",
     "text": [
      "    A   B   C   D\n",
      "0  n1  n2  n3  n4\n"
     ]
    }
   ],
   "source": [
    "new_row_df = pd.DataFrame([['n1', 'n2', 'n3', 'n4']], columns=['A', 'B', 'C', 'D'])\n",
    "print(new_row_df)"
   ]
  },
  {
   "cell_type": "code",
   "execution_count": 34,
   "metadata": {},
   "outputs": [
    {
     "name": "stdout",
     "output_type": "stream",
     "text": [
      "     0    A    B    C    D\n",
      "0   a1  NaN  NaN  NaN  NaN\n",
      "1   b1  NaN  NaN  NaN  NaN\n",
      "2   c1  NaN  NaN  NaN  NaN\n",
      "3   d1  NaN  NaN  NaN  NaN\n",
      "0  NaN   n1   n2   n3   n4\n"
     ]
    }
   ],
   "source": [
    "print(pd.concat([df1,new_row_df]))"
   ]
  },
  {
   "cell_type": "code",
   "execution_count": 35,
   "metadata": {},
   "outputs": [
    {
     "name": "stdout",
     "output_type": "stream",
     "text": [
      "    0\n",
      "0  a1\n",
      "1  b1\n",
      "2  c1\n",
      "3  d1\n",
      "0  a2\n",
      "1  b2\n",
      "2  c2\n",
      "3  d2\n"
     ]
    }
   ],
   "source": [
    "print(df1.append(df2))"
   ]
  },
  {
   "cell_type": "code",
   "execution_count": 36,
   "metadata": {},
   "outputs": [
    {
     "name": "stdout",
     "output_type": "stream",
     "text": [
      "     0    A    B    C    D\n",
      "0   a1  NaN  NaN  NaN  NaN\n",
      "1   b1  NaN  NaN  NaN  NaN\n",
      "2   c1  NaN  NaN  NaN  NaN\n",
      "3   d1  NaN  NaN  NaN  NaN\n",
      "0  NaN   n1   n2   n3   n4\n"
     ]
    }
   ],
   "source": [
    "print(df1.append(new_row_df))"
   ]
  },
  {
   "cell_type": "markdown",
   "metadata": {},
   "source": [
    "#### Adding Columns"
   ]
  },
  {
   "cell_type": "code",
   "execution_count": 38,
   "metadata": {},
   "outputs": [
    {
     "name": "stdout",
     "output_type": "stream",
     "text": [
      "    0   0   0\n",
      "0  a0  a1  a2\n",
      "1  b0  b1  b2\n",
      "2  c0  c1  c2\n",
      "3  d0  d1  d2\n"
     ]
    }
   ],
   "source": [
    "col_concat = pd.concat([df0, df1, df2], axis=1)\n",
    "print(col_concat)"
   ]
  },
  {
   "cell_type": "code",
   "execution_count": 40,
   "metadata": {},
   "outputs": [],
   "source": [
    "col_concat['new_col_list'] = ['n1', 'n2', 'n3', 'n4']"
   ]
  },
  {
   "cell_type": "code",
   "execution_count": 41,
   "metadata": {},
   "outputs": [
    {
     "name": "stdout",
     "output_type": "stream",
     "text": [
      "    0   0   0 new_col_list\n",
      "0  a0  a1  a2           n1\n",
      "1  b0  b1  b2           n2\n",
      "2  c0  c1  c2           n3\n",
      "3  d0  d1  d2           n4\n"
     ]
    }
   ],
   "source": [
    "print(col_concat)"
   ]
  },
  {
   "cell_type": "code",
   "execution_count": 42,
   "metadata": {},
   "outputs": [
    {
     "name": "stdout",
     "output_type": "stream",
     "text": [
      "    0   0   0 new_col_list new_col_series\n",
      "0  a0  a1  a2           n1             n1\n",
      "1  b0  b1  b2           n2             n2\n",
      "2  c0  c1  c2           n3             n3\n",
      "3  d0  d1  d2           n4             n4\n"
     ]
    }
   ],
   "source": [
    "col_concat['new_col_series']=pd.Series(['n1', 'n2', 'n3', 'n4'])\n",
    "print(col_concat)"
   ]
  },
  {
   "cell_type": "code",
   "execution_count": 43,
   "metadata": {},
   "outputs": [
    {
     "name": "stdout",
     "output_type": "stream",
     "text": [
      "    0   1   2\n",
      "0  a0  a1  a2\n",
      "1  b0  b1  b2\n",
      "2  c0  c1  c2\n",
      "3  d0  d1  d2\n"
     ]
    }
   ],
   "source": [
    "print(pd.concat([df0,df1,df2], axis=1, ignore_index=True))"
   ]
  },
  {
   "cell_type": "markdown",
   "metadata": {},
   "source": [
    "## Missing Data"
   ]
  },
  {
   "cell_type": "code",
   "execution_count": 2,
   "metadata": {},
   "outputs": [],
   "source": [
    "from numpy import NaN, NAN, nan"
   ]
  },
  {
   "cell_type": "code",
   "execution_count": 4,
   "metadata": {},
   "outputs": [
    {
     "name": "stdout",
     "output_type": "stream",
     "text": [
      "nan\n",
      "nan\n",
      "nan\n"
     ]
    }
   ],
   "source": [
    "print(NaN)\n",
    "print(NAN)\n",
    "print(nan)"
   ]
  },
  {
   "cell_type": "code",
   "execution_count": 5,
   "metadata": {},
   "outputs": [],
   "source": [
    "import pandas as pd"
   ]
  },
  {
   "cell_type": "code",
   "execution_count": 9,
   "metadata": {},
   "outputs": [
    {
     "name": "stdout",
     "output_type": "stream",
     "text": [
      "True\n",
      "True\n",
      "True\n"
     ]
    }
   ],
   "source": [
    "print(pd.isnull(NaN))\n",
    "print(pd.isnull(NAN))\n",
    "print(pd.isnull(nan))"
   ]
  },
  {
   "cell_type": "code",
   "execution_count": 10,
   "metadata": {},
   "outputs": [
    {
     "name": "stdout",
     "output_type": "stream",
     "text": [
      "                Name    Occupation        Born        Died  missing\n",
      "0  Rosaline Franklin       Chemist  1920-07-25  1958-04-16      NaN\n",
      "1     William Gosset  Statistician  1876-06-13  1937-10-16      NaN\n"
     ]
    }
   ],
   "source": [
    "scientists = pd.DataFrame({\n",
    "\n",
    "    'Name': ['Rosaline Franklin', 'William Gosset'],\n",
    "\n",
    "    'Occupation': ['Chemist', 'Statistician'],\n",
    "\n",
    "    'Born': ['1920-07-25', '1876-06-13'],\n",
    "\n",
    "    'Died': ['1958-04-16', '1937-10-16'],\n",
    "\n",
    "    'missing': [NaN, nan]})\n",
    "\n",
    "print(scientists)"
   ]
  },
  {
   "cell_type": "code",
   "execution_count": null,
   "metadata": {},
   "outputs": [],
   "source": [
    "sc"
   ]
  }
 ],
 "metadata": {
  "kernelspec": {
   "display_name": "Python 3",
   "language": "python",
   "name": "python3"
  },
  "language_info": {
   "codemirror_mode": {
    "name": "ipython",
    "version": 3
   },
   "file_extension": ".py",
   "mimetype": "text/x-python",
   "name": "python",
   "nbconvert_exporter": "python",
   "pygments_lexer": "ipython3",
   "version": "3.7.6"
  }
 },
 "nbformat": 4,
 "nbformat_minor": 4
}
